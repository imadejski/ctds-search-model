{
 "cells": [
  {
   "cell_type": "code",
   "execution_count": null,
   "metadata": {},
   "outputs": [],
   "source": [
    "import pandas as pd\n",
    "import numpy as np\n",
    "from sklearn.decomposition import PCA\n",
    "from sklearn.cluster import KMeans\n",
    "import matplotlib.pyplot as plt\n",
    "from mpl_toolkits.mplot3d import Axes3D\n",
    "from ast import literal_eval\n",
    "import csv"
   ]
  },
  {
   "cell_type": "markdown",
   "metadata": {},
   "source": [
    "First, we can convert the embeddings to the proper vector form from string in CSV"
   ]
  },
  {
   "cell_type": "code",
   "execution_count": null,
   "metadata": {},
   "outputs": [],
   "source": [
    "def convert_to_array(embedding_str):\n",
    "    return np.fromstring(embedding_str[1:-1], sep=' ')\n",
    "\n",
    "file_path = \"/home/imadejski/ctds-search-model/data/mimic/embedding_libraries/mimic_validate_embedding_library.csv\""
   ]
  },
  {
   "cell_type": "markdown",
   "metadata": {},
   "source": [
    "Then, we can do k-means clustering directly with the MIMIC embeddings. "
   ]
  },
  {
   "cell_type": "code",
   "execution_count": null,
   "metadata": {},
   "outputs": [],
   "source": [
    "embeddings_df = pd.read_csv(file_path)\n",
    "embeddings_df['embedding'] = embeddings_df['embedding'].apply(convert_to_array)\n",
    "embeddings_stack = np.stack(embeddings_df['embedding'].values)\n",
    "\n",
    "n_clusters = 10\n",
    "kmeans = KMeans(n_clusters=n_clusters, random_state=0).fit(embeddings_stack)\n",
    "\n",
    "embeddings_df['cluster'] = kmeans.labels_"
   ]
  },
  {
   "cell_type": "markdown",
   "metadata": {},
   "source": [
    "Then we can use PCA to reduce the embeddings and visualize the k-means clustered original embeddings. "
   ]
  },
  {
   "cell_type": "code",
   "execution_count": null,
   "metadata": {},
   "outputs": [],
   "source": [
    "embeddings_pca_df = pd.read_csv(file_path)\n",
    "\n",
    "embeddings_pca_df['embedding'] = embeddings_pca_df['embedding'].apply(convert_to_array)\n",
    "embeddings_pca_stack = np.stack(embeddings_pca_df['embedding'].values)\n",
    "\n",
    "# Apply PCA to reduce the dimensionality\n",
    "#pca = PCA(n_components=3)\n",
    "pca = PCA(n_components=2)\n",
    "reduced_embeddings = pca.fit_transform(embeddings_pca_stack)\n",
    "\n",
    "# Plotting in 3D\n",
    "#fig = plt.figure(figsize=(10, 6))\n",
    "#ax = fig.add_subplot(111, projection='3d')\n",
    "\n",
    "#Plotting in 2D\n",
    "fig, ax = plt.subplots(figsize=(10, 6))\n",
    "\n",
    "#ax.scatter(reduced_embeddings[:, 0], reduced_embeddings[:, 1], reduced_embeddings[:, 2], c=kmeans.labels_, cmap='viridis', s=50, alpha=0.6)\n",
    "ax.scatter(reduced_embeddings[:, 0], reduced_embeddings[:, 1], c=kmeans.labels_, cmap='viridis', s=50, alpha=0.6)\n",
    "ax.set_title('2D Visualization of KMeans Clustering with Original Embeddings')\n",
    "ax.set_xlabel('PCA Component 1')\n",
    "ax.set_ylabel('PCA Component 2')\n",
    "#ax.set_zlabel('PCA Component 3')\n",
    "\n",
    "plt.show()"
   ]
  },
  {
   "cell_type": "markdown",
   "metadata": {},
   "source": [
    "Then we can visualize the reduced embeddings clustered by k-means on the PCA plot. "
   ]
  },
  {
   "cell_type": "code",
   "execution_count": null,
   "metadata": {},
   "outputs": [],
   "source": [
    "# Perform KMeans clustering on the reduced embeddings\n",
    "n_clusters_pca = 10\n",
    "kmeans_pca = KMeans(n_clusters=n_clusters, random_state=0).fit(reduced_embeddings)\n",
    "\n",
    "# Assign the cluster labels to the DataFrame\n",
    "embeddings_pca_df['cluster'] = kmeans_pca.labels_\n",
    "\n",
    "# Plotting in 3D, coloring points by their cluster label\n",
    "#fig = plt.figure(figsize=(10, 6))\n",
    "#ax = fig.add_subplot(111, projection='3d')\n",
    "fig, ax = plt.subplots(figsize=(10, 6))\n",
    "\n",
    "# Use the 'cluster' column to color the datapoints\n",
    "#scatter = ax.scatter(reduced_embeddings[:, 0], reduced_embeddings[:, 1], reduced_embeddings[:, 2], c=embeddings_pca_df['cluster'], cmap='viridis', s=50, alpha=0.6)\n",
    "scatter = ax.scatter(reduced_embeddings[:, 0], reduced_embeddings[:, 1], c=embeddings_pca_df['cluster'], cmap='viridis', s=50, alpha=0.6)\n",
    "\n",
    "\n",
    "ax.set_title('2D Visualization of KMeans Clustering with Reduced Embeddings')\n",
    "ax.set_xlabel('PCA Component 1')\n",
    "ax.set_ylabel('PCA Component 2')\n",
    "#ax.set_zlabel('PCA Component 3')\n",
    "\n",
    "plt.show()"
   ]
  },
  {
   "cell_type": "code",
   "execution_count": null,
   "metadata": {},
   "outputs": [],
   "source": [
    "chexpert_file_path = \"/opt/gpudata/mimic-cxr/mimic-cxr-2.0.0-chexpert.csv.gz\"\n",
    "chexpert_df = pd.read_csv(chexpert_file_path)\n",
    "\n",
    "merged_df = pd.merge(embeddings_df, chexpert_df, on=['subject_id', 'study_id'])\n",
    "\n",
    "label_columns = [\"Atelectasis\", \"Cardiomegaly\", \"Consolidation\", \"Edema\", \"Enlarged Cardiomediastinum\", \"Fracture\", \"Lung Lesion\",\n",
    "\"Lung Opacity\", \"No Finding\", \"Pleural Effusion\", \"Pleural Other\", \"Pneumonia\", \"Pneumothorax\", \"Support Devices\"] \n",
    "\n",
    "label_prevalence = {label: {} for label in label_columns}\n",
    "cluster_sample_counts = {}\n",
    "\n",
    "for label in label_columns:\n",
    "    for cluster in merged_df['cluster'].unique():\n",
    "        cluster_df = merged_df[merged_df['cluster'] == cluster]\n",
    "        positive_count = cluster_df[label].eq(1).sum()\n",
    "        total_count = cluster_df[label].shape[0]\n",
    "        cluster_sample_counts[cluster] = total_count\n",
    "        prevalence = positive_count / total_count if total_count > 0 else np.nan\n",
    "        label_prevalence[label][cluster] = prevalence\n",
    "\n",
    "prevalence_df = pd.DataFrame(label_prevalence)\n",
    "\n",
    "#Add total number of samples in each cluster \n",
    "prevalence_df['Total_Samples'] = prevalence_df.index.map(cluster_sample_counts)\n",
    "\n",
    "#Add row that averages the prevalence of each label for sanity check\n",
    "# Calculate weighted averages for each label\n",
    "weighted_averages = {}\n",
    "for label in label_columns:\n",
    "    weighted_sum = 0\n",
    "    total_samples = 0\n",
    "    for cluster, prevalence in label_prevalence[label].items():\n",
    "        samples_in_cluster = cluster_sample_counts[cluster]\n",
    "        if not pd.isna(prevalence):\n",
    "            weighted_sum += prevalence * samples_in_cluster\n",
    "            total_samples += samples_in_cluster\n",
    "    weighted_average = weighted_sum / total_samples if total_samples > 0 else np.nan\n",
    "    weighted_averages[label] = weighted_average\n",
    "\n",
    "# Append the row of weighted averages to prevalence_df\n",
    "weighted_averages['Total_Samples'] = total_samples\n",
    "weighted_average_row = pd.DataFrame([weighted_averages], index=['Weighted_Avg'])\n",
    "prevalence_df = pd.concat([prevalence_df, weighted_average_row])\n",
    "\n",
    "\n",
    "prevalence_df.to_csv('/home/imadejski/ctds-search-model/data/mimic/label_prevalence/mimic_label_prevalence_15_clusters.csv', index_label='Cluster')\n"
   ]
  },
  {
   "cell_type": "markdown",
   "metadata": {},
   "source": [
    "Check that the prevalence adds up"
   ]
  },
  {
   "cell_type": "code",
   "execution_count": null,
   "metadata": {},
   "outputs": [],
   "source": [
    "total_samples_sum = prevalence_df['Total_Samples'].sum() - prevalence_df['Total_Samples'][\"Weighted_Avg\"]\n",
    "print(\"Total samples clustered: \", total_samples_sum)\n",
    "\n",
    "embeddings_file_path = '/home/imadejski/ctds-search-model/data/mimic/embedding_libraries/mimic_validate_embedding_library.csv'\n",
    "embeddings_df = pd.read_csv(embeddings_file_path)\n",
    "print(\"Total embeddings: \", embeddings_df.shape[0])"
   ]
  },
  {
   "cell_type": "code",
   "execution_count": null,
   "metadata": {},
   "outputs": [],
   "source": [
    "print(prevalence_df.mean())"
   ]
  }
 ],
 "metadata": {
  "kernelspec": {
   "display_name": "himl",
   "language": "python",
   "name": "python3"
  },
  "language_info": {
   "codemirror_mode": {
    "name": "ipython",
    "version": 3
   },
   "file_extension": ".py",
   "mimetype": "text/x-python",
   "name": "python",
   "nbconvert_exporter": "python",
   "pygments_lexer": "ipython3",
   "version": "3.9.18"
  }
 },
 "nbformat": 4,
 "nbformat_minor": 2
}
