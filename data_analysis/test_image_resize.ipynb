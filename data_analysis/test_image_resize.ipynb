{
 "cells": [
  {
   "cell_type": "code",
   "execution_count": null,
   "metadata": {},
   "outputs": [],
   "source": [
    "import tempfile\n",
    "from enum import Enum, unique\n",
    "from pathlib import Path\n",
    "from typing import List, Optional, Tuple, Union\n",
    "\n",
    "import requests\n",
    "from torchvision.datasets.utils import check_integrity\n",
    "\n",
    "from health_multimodal.image import ImageInferenceEngine\n",
    "from health_multimodal.image.data.transforms import create_chest_xray_transform_for_inference\n",
    "from health_multimodal.image.model.pretrained import get_biovil_t_image_encoder\n",
    "from health_multimodal.text.utils import BertEncoderType, get_bert_inference\n",
    "from health_multimodal.vlp.inference_engine import ImageTextInferenceEngine"
   ]
  },
  {
   "cell_type": "code",
   "execution_count": null,
   "metadata": {},
   "outputs": [],
   "source": [
    "import matplotlib.pyplot as plt\n",
    "from PIL import Image"
   ]
  },
  {
   "cell_type": "code",
   "execution_count": null,
   "metadata": {},
   "outputs": [],
   "source": [
    "RESIZE = 512\n",
    "CENTER_CROP_SIZE = 512"
   ]
  },
  {
   "cell_type": "code",
   "execution_count": null,
   "metadata": {},
   "outputs": [],
   "source": [
    "def _get_vlp_inference_engine() -> ImageTextInferenceEngine:\n",
    "    image_inference = ImageInferenceEngine(\n",
    "        image_model=get_biovil_t_image_encoder(),\n",
    "        transform=create_chest_xray_transform_for_inference(resize=RESIZE, center_crop_size=CENTER_CROP_SIZE),\n",
    "    )\n",
    "    img_txt_inference = ImageTextInferenceEngine(\n",
    "        image_inference_engine=image_inference,\n",
    "        text_inference_engine=get_bert_inference(BertEncoderType.BIOVIL_T_BERT),\n",
    "    )\n",
    "    return img_txt_inference"
   ]
  },
  {
   "cell_type": "code",
   "execution_count": null,
   "metadata": {},
   "outputs": [],
   "source": [
    "def get_cosine_similarity(image_path, search_query):\n",
    "    '''\n",
    "    Returns cosine similarity between resized image and search query\n",
    "    '''\n",
    "    img_txt_inference = _get_vlp_inference_engine()\n",
    "    cosine_similarity = img_txt_inference.get_similarity_score_from_raw_data(\n",
    "                image_path=image_path, query_text=search_query\n",
    "            )\n",
    "    return cosine_similarity"
   ]
  },
  {
   "cell_type": "code",
   "execution_count": null,
   "metadata": {},
   "outputs": [],
   "source": [
    "def show_image(image_path):\n",
    "    '''\n",
    "    Displays jpg image\n",
    "    '''    \n",
    "    image = Image.open(image_path)\n",
    "    \n",
    "    plt.imshow(image, cmap=plt.cm.gray)\n",
    "    plt.axis('off')  \n",
    "    plt.show()"
   ]
  },
  {
   "cell_type": "code",
   "execution_count": null,
   "metadata": {},
   "outputs": [],
   "source": [
    "pneumonia_pos = \"/opt/gpudata/mimic-cxr/jpg/p10/p10011365/s53459647/f6fccc21-ded29731-2a7419a6-961566fe-710630d3.jpg\"\n",
    "\n",
    "show_image(pneumonia_pos)\n",
    "print(get_cosine_similarity(Path(pneumonia_pos), \"Pneumonia seen\"))\n",
    "print(get_cosine_similarity(Path(pneumonia_pos), \"Findings consistent with pneumonia\"))\n",
    "print(get_cosine_similarity(Path(pneumonia_pos), \"Findings suggesting pneumonia\"))\n",
    "print(get_cosine_similarity(Path(pneumonia_pos), \"This opacity can represent pneumonia\"))\n",
    "print(get_cosine_similarity(Path(pneumonia_pos), \"Findings are most compatible with pneumonia\"))\n",
    "\n"
   ]
  },
  {
   "cell_type": "code",
   "execution_count": null,
   "metadata": {},
   "outputs": [],
   "source": [
    "file_path = \"/opt/gpudata/mimic-cxr/notes/p10/p10011365/s53459647.txt\"\n",
    "with open(file_path, 'r') as file:\n",
    "    contents = file.read()\n",
    "\n",
    "print(contents)"
   ]
  },
  {
   "cell_type": "code",
   "execution_count": null,
   "metadata": {},
   "outputs": [],
   "source": [
    "pneumonia_pos = \"/opt/gpudata/mimic-cxr/jpg/p10/p10011365/s53459647/f6fccc21-ded29731-2a7419a6-961566fe-710630d3.jpg\"\n",
    "\n",
    "show_image(pneumonia_pos)\n",
    "print(get_cosine_similarity(Path(pneumonia_pos), \"Pneumonia is not seen\"))\n",
    "print(get_cosine_similarity(Path(pneumonia_pos), \"Findings not consistent with pneumonia\"))\n",
    "print(get_cosine_similarity(Path(pneumonia_pos), \"Findings not suggesting pneumonia\"))\n",
    "print(get_cosine_similarity(Path(pneumonia_pos), \"Findings are not compatible with pneumonia\"))"
   ]
  },
  {
   "cell_type": "code",
   "execution_count": null,
   "metadata": {},
   "outputs": [],
   "source": [
    "pneumonia_neg = \"/opt/gpudata/mimic-cxr/jpg/p10/p10000980/s50985099/6ad03ed1-97ee17ee-9cf8b320-f7011003-cd93b42d.jpg\"\n",
    "show_image(pneumonia_neg)\n",
    "\n",
    "print(get_cosine_similarity(Path(pneumonia_neg), \"Pneumonia seen\"))\n",
    "print(get_cosine_similarity(Path(pneumonia_neg), \"Findings consistent with pneumonia\"))\n",
    "print(get_cosine_similarity(Path(pneumonia_neg), \"Findings suggesting pneumonia\"))\n",
    "print(get_cosine_similarity(Path(pneumonia_neg), \"This opacity can represent pneumonia\"))\n",
    "print(get_cosine_similarity(Path(pneumonia_neg), \"Findings are most compatible with pneumonia\"))"
   ]
  },
  {
   "cell_type": "code",
   "execution_count": null,
   "metadata": {},
   "outputs": [],
   "source": [
    "file_path = \"/opt/gpudata/mimic-cxr/notes/p10/p10000980/s50985099.txt\"\n",
    "with open(file_path, 'r') as file:\n",
    "    contents = file.read()\n",
    "\n",
    "print(contents)"
   ]
  },
  {
   "cell_type": "code",
   "execution_count": null,
   "metadata": {},
   "outputs": [],
   "source": [
    "pneumonia_neg = \"/opt/gpudata/mimic-cxr/jpg/p10/p10000980/s50985099/6ad03ed1-97ee17ee-9cf8b320-f7011003-cd93b42d.jpg\"\n",
    "show_image(pneumonia_neg)\n",
    "\n",
    "print(get_cosine_similarity(Path(pneumonia_neg), \"Pneumonia is not seen\"))\n",
    "print(get_cosine_similarity(Path(pneumonia_neg), \"Findings not consistent with pneumonia\"))\n",
    "print(get_cosine_similarity(Path(pneumonia_neg), \"Findings not suggesting pneumonia\"))\n",
    "print(get_cosine_similarity(Path(pneumonia_neg), \"Findings are not compatible with pneumonia\"))"
   ]
  }
 ],
 "metadata": {
  "kernelspec": {
   "display_name": "himl",
   "language": "python",
   "name": "python3"
  },
  "language_info": {
   "codemirror_mode": {
    "name": "ipython",
    "version": 3
   },
   "file_extension": ".py",
   "mimetype": "text/x-python",
   "name": "python",
   "nbconvert_exporter": "python",
   "pygments_lexer": "ipython3",
   "version": "3.9.18"
  }
 },
 "nbformat": 4,
 "nbformat_minor": 2
}
