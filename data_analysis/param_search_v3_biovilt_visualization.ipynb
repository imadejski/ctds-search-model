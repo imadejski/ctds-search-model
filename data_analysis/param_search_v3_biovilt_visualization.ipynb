{
 "cells": [
  {
   "cell_type": "code",
   "execution_count": null,
   "metadata": {},
   "outputs": [],
   "source": [
    "import pandas as pd\n",
    "import seaborn as sns\n",
    "import matplotlib.pyplot as plt"
   ]
  },
  {
   "cell_type": "code",
   "execution_count": null,
   "metadata": {},
   "outputs": [],
   "source": [
    "def load_data(file_paths):\n",
    "    data_frames = []\n",
    "    for path in file_paths:\n",
    "        df = pd.read_csv(path, index_col=0)\n",
    "        data_frames.append(df)\n",
    "    return data_frames"
   ]
  },
  {
   "cell_type": "code",
   "execution_count": null,
   "metadata": {},
   "outputs": [],
   "source": [
    "def prepare_data(data_frames, model_names):\n",
    "    combined_df = pd.concat(data_frames, keys=model_names, names=['Model', 'Label'])\n",
    "    combined_df = combined_df.reset_index().melt(id_vars=['Model', 'Label'], var_name='Pooling Method', value_name='Accuracy')\n",
    "    return combined_df"
   ]
  },
  {
   "cell_type": "code",
   "execution_count": null,
   "metadata": {},
   "outputs": [],
   "source": [
    "def plot_accuracy(data):\n",
    "    pooling_methods = data['Pooling Method'].unique()\n",
    "    \n",
    "    # Determine the global min and max for 'Accuracy'\n",
    "    y_min = data['Accuracy'].min()\n",
    "    y_max = data['Accuracy'].max()\n",
    "    \n",
    "    for pooling_method in pooling_methods:\n",
    "        # Skip the specified pooling methods\n",
    "        if pooling_method in [\"average_embedding_max_accuracy\", \"average_embedding_mean_accuracy\"]:\n",
    "            continue\n",
    "\n",
    "        plot_data = data[data['Pooling Method'] == pooling_method].copy()\n",
    "        plot_data['Label'] = plot_data['Label'].replace('Enlarged Cardiomediastinum', 'Enl Card')\n",
    "\n",
    "        if pooling_method == \"average_cosine_similarity_max_accuracy\":\n",
    "            pooling_label = \"Avg Similarity/Study Max\"\n",
    "        elif pooling_method == \"average_cosine_similarity_mean_accuracy\":\n",
    "            pooling_label = \"Avg Similarity/Study Avg\"\n",
    "        elif pooling_method == \"max_cosine_similarity_max_accuracy\":\n",
    "            pooling_label = \"Max Similarity/Study Max\"\n",
    "        elif pooling_method == \"max_cosine_similarity_mean_accuracy\":\n",
    "            pooling_label = \"Max Similarity/Study Avg\"\n",
    "\n",
    "        plt.figure(figsize=(12, 8))\n",
    "        sns.barplot(x='Label', y='Accuracy', hue='Model', data=plot_data, errorbar=None)\n",
    "        plt.ylim(y_min, y_max)  # Set the y-axis limits\n",
    "        plt.title(f'Model Accuracy for Pooling Method: {pooling_label}')\n",
    "        plt.ylabel('Accuracy')\n",
    "        plt.xlabel('Label')\n",
    "        plt.xticks(rotation=90)\n",
    "        plt.legend(title='Model', bbox_to_anchor=(1.05, 1), loc='upper left')\n",
    "        plt.tight_layout()\n",
    "        plt.show()"
   ]
  },
  {
   "cell_type": "code",
   "execution_count": null,
   "metadata": {},
   "outputs": [],
   "source": [
    "# File paths to CSV files and corresponding model names\n",
    "csv_paths = [\"/opt/gpudata/imadejski/search-model/ctds-search-model/data/mimic_validate_biovil_top_n_accuracy.csv\",\n",
    "            \"/opt/gpudata/imadejski/search-model/ctds-search-model/data/mimic_validate_biovilt_top_n_accuracy.csv\", \n",
    "            \"/opt/gpudata/imadejski/search-model/ctds-search-model/data/param_search_v3_biovilt/model_run_3_True_ig_tg/model_top_n_accuracy_results.csv\",\n",
    "            \"/opt/gpudata/imadejski/search-model/ctds-search-model/data/param_search_v3_biovilt/model_run_1_True_igl_tg/model_top_n_accuracy_results.csv\", \n",
    "            \"/opt/gpudata/imadejski/search-model/ctds-search-model/data/param_search_v3_biovilt/model_run_2_True_ig_tgl/model_top_n_accuracy_results.csv\",\n",
    "            \"/opt/gpudata/imadejski/search-model/ctds-search-model/data/param_search_v3_biovilt/model_run_0_True_igl_tgl/model_top_n_accuracy_results.csv\",\n",
    "            \"/opt/gpudata/imadejski/search-model/ctds-search-model/data/param_search_v3_biovilt/model_run_7_False_ig_tg/model_top_n_accuracy_results.csv\",\n",
    "            \"/opt/gpudata/imadejski/search-model/ctds-search-model/data/param_search_v3_biovilt/model_run_5_False_igl_tg/model_top_n_accuracy_results.csv\",\n",
    "            \"/opt/gpudata/imadejski/search-model/ctds-search-model/data/param_search_v3_biovilt/model_run_6_False_ig_tgl/model_top_n_accuracy_results.csv\",\n",
    "            \"/opt/gpudata/imadejski/search-model/ctds-search-model/data/param_search_v3_biovilt/model_run_4_False_igl_tgl/model_top_n_accuracy_results.csv\"\n",
    "            ]\n",
    "model_names = [\"BioVIL\", \"BioVIL-T\", \"True, IG_TG\", \"True, IGL_TG\", \"True, IG_TGL\", \"True, IGL_TGL\", \"False, IG_TG\", \"False, IGL_TG\", \"False, IG_TGL\", \"False, IGL_TGL\"]\n",
    "\n",
    "# Loading and preparing the data\n",
    "data_frames = load_data(csv_paths)\n",
    "data = prepare_data(data_frames, model_names)\n",
    "\n",
    "# Plotting the accuracy data\n",
    "plot_accuracy(data)"
   ]
  }
 ],
 "metadata": {
  "kernelspec": {
   "display_name": "btir",
   "language": "python",
   "name": "python3"
  },
  "language_info": {
   "codemirror_mode": {
    "name": "ipython",
    "version": 3
   },
   "file_extension": ".py",
   "mimetype": "text/x-python",
   "name": "python",
   "nbconvert_exporter": "python",
   "pygments_lexer": "ipython3",
   "version": "3.10.13"
  }
 },
 "nbformat": 4,
 "nbformat_minor": 2
}
