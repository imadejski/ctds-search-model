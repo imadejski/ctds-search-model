{
 "cells": [
  {
   "cell_type": "code",
   "execution_count": null,
   "metadata": {},
   "outputs": [],
   "source": [
    "import scipy.stats as stats\n",
    "import numpy as np\n",
    "import pandas as pd\n",
    "import pingouin as pg"
   ]
  },
  {
   "cell_type": "markdown",
   "metadata": {},
   "source": [
    "First, we can run a paired t-test on the BioViL vs BioViL-T models. "
   ]
  },
  {
   "cell_type": "code",
   "execution_count": null,
   "metadata": {},
   "outputs": [],
   "source": [
    "biovil_false_igl_tgl_df = pd.read_csv(\"/opt/gpudata/imadejski/search-model/ctds-search-model/data/param_search_v2/model_run_0_False_igl_tgl/model_top_n_accuracy_results.csv\")\n",
    "biovil_false_igl_tg_df = pd.read_csv(\"/opt/gpudata/imadejski/search-model/ctds-search-model/data/param_search_v2/model_run_1_False_igl_tg/model_top_n_accuracy_results.csv\")\n",
    "biovil_false_ig_tgl_df = pd.read_csv(\"/opt/gpudata/imadejski/search-model/ctds-search-model/data/param_search_v2/model_run_2_False_ig_tgl/model_top_n_accuracy_results.csv\")\n",
    "biovil_false_ig_tg_df = pd.read_csv(\"/opt/gpudata/imadejski/search-model/ctds-search-model/data/param_search_v2/model_run_3_False_ig_tg/model_top_n_accuracy_results.csv\")\n",
    "biovil_true_igl_tgl_df = pd.read_csv(\"/opt/gpudata/imadejski/search-model/ctds-search-model/data/param_search_v2/model_run_0_True_igl_tgl/model_top_n_accuracy_results.csv\")\n",
    "biovil_true_igl_tg_df = pd.read_csv(\"/opt/gpudata/imadejski/search-model/ctds-search-model/data/param_search_v2/model_run_1_True_igl_tg/model_top_n_accuracy_results.csv\")\n",
    "biovil_true_ig_tgl_df = pd.read_csv(\"/opt/gpudata/imadejski/search-model/ctds-search-model/data/param_search_v2/model_run_2_True_ig_tgl/model_top_n_accuracy_results.csv\")\n",
    "biovil_true_ig_tg_df = pd.read_csv(\"/opt/gpudata/imadejski/search-model/ctds-search-model/data/param_search_v2/model_run_3_True_ig_tg/model_top_n_accuracy_results.csv\")"
   ]
  },
  {
   "cell_type": "code",
   "execution_count": null,
   "metadata": {},
   "outputs": [],
   "source": [
    "biovilt_false_igl_tgl_df = pd.read_csv(\"/opt/gpudata/imadejski/search-model/ctds-search-model/data/param_search_v3_biovilt/model_run_4_False_igl_tgl/model_top_n_accuracy_results.csv\")\n",
    "biovilt_false_igl_tg_df = pd.read_csv(\"/opt/gpudata/imadejski/search-model/ctds-search-model/data/param_search_v3_biovilt/model_run_5_False_igl_tg/model_top_n_accuracy_results.csv\")\n",
    "biovilt_false_ig_tgl_df = pd.read_csv(\"/opt/gpudata/imadejski/search-model/ctds-search-model/data/param_search_v3_biovilt/model_run_6_False_ig_tgl/model_top_n_accuracy_results.csv\")\n",
    "biovilt_false_ig_tg_df = pd.read_csv(\"/opt/gpudata/imadejski/search-model/ctds-search-model/data/param_search_v3_biovilt/model_run_7_False_ig_tg/model_top_n_accuracy_results.csv\")\n",
    "biovilt_true_igl_tgl_df = pd.read_csv(\"/opt/gpudata/imadejski/search-model/ctds-search-model/data/param_search_v3_biovilt/model_run_0_True_igl_tgl/model_top_n_accuracy_results.csv\")\n",
    "biovilt_true_igl_tg_df = pd.read_csv(\"/opt/gpudata/imadejski/search-model/ctds-search-model/data/param_search_v3_biovilt/model_run_1_True_igl_tg/model_top_n_accuracy_results.csv\")\n",
    "biovilt_true_ig_tgl_df = pd.read_csv(\"/opt/gpudata/imadejski/search-model/ctds-search-model/data/param_search_v3_biovilt/model_run_2_True_ig_tgl/model_top_n_accuracy_results.csv\")\n",
    "biovilt_true_ig_tg_df = pd.read_csv(\"/opt/gpudata/imadejski/search-model/ctds-search-model/data/param_search_v3_biovilt/model_run_3_True_ig_tg/model_top_n_accuracy_results.csv\")"
   ]
  },
  {
   "cell_type": "code",
   "execution_count": null,
   "metadata": {},
   "outputs": [],
   "source": [
    "biovil_list = [biovil_false_igl_tgl_df, biovil_false_igl_tg_df, biovil_false_ig_tgl_df, biovil_false_ig_tg_df, biovil_true_igl_tgl_df, biovil_true_igl_tg_df, biovil_true_ig_tgl_df, biovil_true_ig_tg_df]\n",
    "biovilt_list = [biovilt_false_igl_tgl_df, biovilt_false_igl_tg_df, biovilt_false_ig_tgl_df, biovilt_false_ig_tg_df, biovilt_true_igl_tgl_df, biovilt_true_igl_tg_df, biovilt_true_ig_tgl_df, biovilt_true_ig_tg_df]"
   ]
  },
  {
   "cell_type": "code",
   "execution_count": null,
   "metadata": {},
   "outputs": [],
   "source": [
    "def biovil_biovilt_t_test(biovil_list, biovilt_list):\n",
    "    all_biovil_scores = []\n",
    "    all_biovilt_scores = []\n",
    "\n",
    "    for i in range(len(biovil_list)):\n",
    "        biovil_df = biovil_list[i].iloc[:, 1:]\n",
    "        biovilt_df = biovilt_list[i].iloc[:, 1:]\n",
    "\n",
    "        biovil_scores = biovil_df.to_numpy().flatten()\n",
    "        biovilt_scores = biovilt_df.to_numpy().flatten()\n",
    "\n",
    "        all_biovil_scores.extend(biovil_scores)\n",
    "        all_biovilt_scores.extend(biovilt_scores)\n",
    "\n",
    "    all_biovil_scores = np.array(all_biovil_scores)\n",
    "    all_biovilt_scores = np.array(all_biovilt_scores)\n",
    "\n",
    "    t_statistic, p_value = stats.ttest_rel(all_biovil_scores, all_biovilt_scores)\n",
    "    return (t_statistic, p_value)"
   ]
  },
  {
   "cell_type": "code",
   "execution_count": null,
   "metadata": {},
   "outputs": [],
   "source": [
    "t_statistic, p_value = biovil_biovilt_t_test(biovil_list, biovilt_list)\n",
    "print(f\"T-statistic: {t_statistic}\")\n",
    "print(f\"P-value: {p_value}\")"
   ]
  },
  {
   "cell_type": "markdown",
   "metadata": {},
   "source": [
    "Then, we can eliminate the pooling parameters. The first parameter is whether to take the average cosine similarity value or the max cosine similarity value of the values that exist for each study. The second parameter is whether to take the average cosine similarity value or the max cosine similarity value between the various queries that are being used to retrieve a positive image. We can run a paired t-test."
   ]
  },
  {
   "cell_type": "code",
   "execution_count": null,
   "metadata": {},
   "outputs": [],
   "source": [
    "def study_pooling_t_test(biovilt_list):\n",
    "    study_max_scores = []\n",
    "    study_avg_scores = []\n",
    "    \n",
    "    for df in biovilt_list:\n",
    "        study_max_df = df[['max_cosine_similarity_max_accuracy', 'average_cosine_similarity_max_accuracy']]\n",
    "        study_avg_df = df[['max_cosine_similarity_mean_accuracy', 'average_cosine_similarity_mean_accuracy']]\n",
    "\n",
    "        study_max_scores.extend(study_max_df.to_numpy().flatten())\n",
    "        study_avg_scores.extend(study_avg_df.to_numpy().flatten())\n",
    "\n",
    "    study_max_scores = np.array(study_max_scores)\n",
    "    study_avg_scores = np.array(study_avg_scores)\n",
    "\n",
    "    t_statistic, p_value = stats.ttest_rel(study_max_scores, study_avg_scores)\n",
    "    return (t_statistic, p_value)\n"
   ]
  },
  {
   "cell_type": "code",
   "execution_count": null,
   "metadata": {},
   "outputs": [],
   "source": [
    "t_statistic, p_value = study_pooling_t_test(biovilt_list)\n",
    "print(f\"T-statistic: {t_statistic}\")\n",
    "print(f\"P-value: {p_value}\")"
   ]
  },
  {
   "cell_type": "code",
   "execution_count": null,
   "metadata": {},
   "outputs": [],
   "source": [
    "def query_pooling_t_test(biovilt_list):\n",
    "    query_max_scores = []\n",
    "    query_avg_scores = []\n",
    "    \n",
    "    for df in biovilt_list:\n",
    "        query_max_df = df[['max_cosine_similarity_max_accuracy', 'max_cosine_similarity_mean_accuracy']]\n",
    "        query_avg_df = df[['average_cosine_similarity_max_accuracy', 'average_cosine_similarity_mean_accuracy']]\n",
    "\n",
    "        query_max_scores.extend(query_max_df.to_numpy().flatten())\n",
    "        query_avg_scores.extend(query_avg_df.to_numpy().flatten())\n",
    "\n",
    "    query_max_scores = np.array(query_max_scores)\n",
    "    query_avg_scores = np.array(query_avg_scores)\n",
    "\n",
    "    t_statistic, p_value = stats.ttest_rel(query_max_scores, query_avg_scores)\n",
    "    return (t_statistic, p_value)\n"
   ]
  },
  {
   "cell_type": "code",
   "execution_count": null,
   "metadata": {},
   "outputs": [],
   "source": [
    "t_statistic, p_value = query_pooling_t_test(biovilt_list)\n",
    "print(f\"T-statistic: {t_statistic}\")\n",
    "print(f\"P-value: {p_value}\")"
   ]
  },
  {
   "cell_type": "markdown",
   "metadata": {},
   "source": [
    "Then, we can run a paired t-test to decide whether we should average the patches after projection. "
   ]
  },
  {
   "cell_type": "code",
   "execution_count": null,
   "metadata": {},
   "outputs": [],
   "source": [
    "biovilt_list_false = [biovilt_false_igl_tgl_df, biovilt_false_igl_tg_df, biovilt_false_ig_tgl_df, biovilt_false_ig_tg_df]\n",
    "biovilt_list_true = [biovilt_true_igl_tgl_df, biovilt_true_igl_tg_df, biovilt_true_ig_tgl_df, biovilt_true_ig_tg_df]"
   ]
  },
  {
   "cell_type": "code",
   "execution_count": null,
   "metadata": {},
   "outputs": [],
   "source": [
    "def proj_avg_t_test(biovilt_list_false, biovilt_list_true):\n",
    "    false_scores = []\n",
    "    true_scores = []\n",
    "\n",
    "    for i in range(len(biovilt_list_false)):\n",
    "        false_df = biovilt_list_false[i]\n",
    "        true_df = biovilt_list_true[i]\n",
    "\n",
    "        false_df = false_df[['max_cosine_similarity_max_accuracy']]\n",
    "        true_df = true_df[['max_cosine_similarity_max_accuracy']]\n",
    "\n",
    "        false_scores.extend(false_df.to_numpy().flatten())\n",
    "        true_scores.extend(true_df.to_numpy().flatten())\n",
    "        \n",
    "    false_scores = np.array(false_scores)\n",
    "    true_scores = np.array(true_scores)\n",
    "\n",
    "    t_statistic, p_value = stats.ttest_rel(false_scores, true_scores)\n",
    "    return (t_statistic, p_value)"
   ]
  },
  {
   "cell_type": "code",
   "execution_count": null,
   "metadata": {},
   "outputs": [],
   "source": [
    "t_statistic, p_value = proj_avg_t_test(biovilt_list_false, biovilt_list_true)\n",
    "print(f\"T-statistic: {t_statistic}\")\n",
    "print(f\"P-value: {p_value}\")"
   ]
  },
  {
   "cell_type": "markdown",
   "metadata": {},
   "source": [
    "Then, we can do an ANOVA test to "
   ]
  }
 ],
 "metadata": {
  "kernelspec": {
   "display_name": "btir",
   "language": "python",
   "name": "python3"
  },
  "language_info": {
   "codemirror_mode": {
    "name": "ipython",
    "version": 3
   },
   "file_extension": ".py",
   "mimetype": "text/x-python",
   "name": "python",
   "nbconvert_exporter": "python",
   "pygments_lexer": "ipython3",
   "version": "3.10.13"
  }
 },
 "nbformat": 4,
 "nbformat_minor": 2
}
