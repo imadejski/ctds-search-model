{
 "cells": [
  {
   "cell_type": "code",
   "execution_count": null,
   "metadata": {},
   "outputs": [],
   "source": [
    "import numpy as np\n",
    "import matplotlib.pyplot as plt\n",
    "import pandas as pd\n",
    "from scipy.stats import ttest_ind"
   ]
  },
  {
   "cell_type": "code",
   "execution_count": null,
   "metadata": {},
   "outputs": [],
   "source": [
    "split_path = \"/opt/gpudata/mimic-cxr/mimic-cxr-2.0.0-split.csv\"\n",
    "split_df = pd.read_csv(split_path)\n",
    "\n",
    "unique_study_ids = split_df[split_df[\"split\"] == \"validate\"]\n",
    "print(len(unique_study_ids))"
   ]
  },
  {
   "cell_type": "code",
   "execution_count": null,
   "metadata": {},
   "outputs": [],
   "source": [
    "cosine_similarity_biovilt_path = \"/opt/gpudata/imadejski/search-model/ctds-search-model/data/biovilt_base_model/biovilt_validate_single_pos_queries_mimic/cosine_similarity.csv\"\n",
    "cosine_similarity_biovilt_df = pd.read_csv(cosine_similarity_biovilt_path)\n",
    "\n",
    "print(len(cosine_similarity_biovilt_df))\n",
    "print(len(cosine_similarity_biovilt_df[\"study_id\"].unique()))"
   ]
  },
  {
   "cell_type": "code",
   "execution_count": null,
   "metadata": {},
   "outputs": [],
   "source": [
    "biovilt_resampling_path = \"/opt/gpudata/imadejski/search-model/ctds-search-model/data/biovilt_base_model/biovilt_validate_single_pos_queries_mimic/top_n_accuracy_results_resampling.csv\"\n",
    "biovilt_resampling_df = pd.read_csv(biovilt_resampling_path)"
   ]
  },
  {
   "cell_type": "code",
   "execution_count": null,
   "metadata": {},
   "outputs": [],
   "source": [
    "biovilt_resampling_df"
   ]
  },
  {
   "cell_type": "code",
   "execution_count": null,
   "metadata": {},
   "outputs": [],
   "source": [
    "biovilt_resampling_df['label'] = biovilt_resampling_df['label'].replace({\n",
    "        \"Enlarged Cardiomediastinum\": \"Enl Card\"\n",
    "    })\n",
    "\n",
    "biovilt_resampling_df['embedding_type'] = biovilt_resampling_df['embedding_type'].replace({\n",
    "        \"average_cosine_similarity_max_accuracy\": \"Study Max, Query Average\",\n",
    "        \"average_cosine_similarity_mean_accuracy\": \"Study Average, Query Average\",\n",
    "        \"max_cosine_similarity_max_accuracy\": \"Study Max, Query Max\",\n",
    "        \"max_cosine_similarity_mean_accuracy\": \"Study Average, Query Max\",\n",
    "    })\n",
    "\n",
    "\n",
    "plt.figure(figsize=(12, 8))\n",
    "\n",
    "# Get unique labels and embedding types\n",
    "labels = biovilt_resampling_df['label'].unique()\n",
    "\n",
    "embedding_types = biovilt_resampling_df['embedding_type'].unique()\n",
    "x = range(len(labels))\n",
    "\n",
    "# Width of each bar\n",
    "bar_width = 0.2\n",
    "# Offset for each embedding type\n",
    "offsets = [bar_width * i for i in range(len(embedding_types))]\n",
    "\n",
    "# Plot bars for each embedding type\n",
    "for i, emb_type in enumerate(embedding_types):\n",
    "    data_for_emb = biovilt_resampling_df[biovilt_resampling_df['embedding_type'] == emb_type]\n",
    "    means = data_for_emb['mean']\n",
    "    ci_lower = data_for_emb['mean'] - data_for_emb['ci_lower']\n",
    "    ci_upper = data_for_emb['ci_upper'] - data_for_emb['mean']\n",
    "\n",
    "    plt.bar(\n",
    "        [p + offsets[i] for p in x], \n",
    "        means, \n",
    "        width=bar_width, \n",
    "        label=emb_type, \n",
    "        yerr=[ci_lower, ci_upper], \n",
    "        capsize=5\n",
    "    )\n",
    "\n",
    "# Set labels, title, and legend\n",
    "plt.xlabel('Labels')\n",
    "plt.ylabel('Mean Accuracy')\n",
    "plt.title('BioViL-T Base Model Accuracy by Label and Embedding Type with Resampling')\n",
    "plt.xticks([p + bar_width for p in x], labels, rotation=90)\n",
    "plt.legend(title='Embedding Types')\n",
    "\n",
    "# Save the plot\n",
    "plt.tight_layout()\n",
    "plt.show()"
   ]
  },
  {
   "cell_type": "code",
   "execution_count": null,
   "metadata": {},
   "outputs": [],
   "source": [
    "biovilt_all_resampling_path = \"/opt/gpudata/imadejski/search-model/ctds-search-model/data/biovilt_base_model/biovilt_validate_single_pos_queries_mimic/top_n_accuracy_results_all_resampling.csv\"\n",
    "biovilt_all_resampling_df = pd.read_csv(biovilt_all_resampling_path)"
   ]
  },
  {
   "cell_type": "code",
   "execution_count": null,
   "metadata": {},
   "outputs": [],
   "source": [
    "biovilt_all_resampling_df"
   ]
  },
  {
   "cell_type": "code",
   "execution_count": null,
   "metadata": {},
   "outputs": [],
   "source": [
    "results = []\n",
    "\n",
    "# Get unique labels and embedding types\n",
    "labels = biovilt_all_resampling_df['label'].unique()\n",
    "embedding_types = biovilt_all_resampling_df['embedding_type'].unique()\n",
    "\n",
    "combinations =  ((\"max_cosine_similarity_max_accuracy\", \"average_cosine_similarity_max_accuracy\"),\n",
    "                (\"max_cosine_similarity_max_accuracy\", \"max_cosine_similarity_mean_accuracy\"),\n",
    "                (\"max_cosine_similarity_max_accuracy\", \"average_cosine_similarity_mean_accuracy\"),\n",
    "                (\"average_cosine_similarity_max_accuracy\", \"max_cosine_similarity_mean_accuracy\"),\n",
    "                (\"average_cosine_similarity_max_accuracy\", \"average_cosine_similarity_mean_accuracy\"),\n",
    "                (\"max_cosine_similarity_mean_accuracy\", \"average_cosine_similarity_mean_accuracy\")\n",
    ")\n",
    "\n",
    "# Perform t-tests for each label\n",
    "for label in labels:\n",
    "    # Filter the data for the current label\n",
    "    label_data = biovilt_all_resampling_df[biovilt_all_resampling_df['label'] == label]\n",
    "\n",
    "    # Generate all combinations of embedding types for pairwise comparison\n",
    "    for emb_type1, emb_type2 in combinations:\n",
    "        # Filter the data for each embedding type\n",
    "        data1 = label_data[label_data['embedding_type'] == emb_type1]['value']\n",
    "        data2 = label_data[label_data['embedding_type'] == emb_type2]['value']\n",
    "\n",
    "        # Perform the t-test\n",
    "        t_stat, p_value = ttest_ind(data1, data2, equal_var=False)\n",
    "\n",
    "        # Store the result\n",
    "        results.append({\n",
    "            'Label': label,\n",
    "            'Embedding Type 1': emb_type1,\n",
    "            'Embedding Type 2': emb_type2,\n",
    "            'T-Statistic': t_stat,\n",
    "            'P-Value': p_value,\n",
    "            'Bonferroni Corrected P-Value': p_value/6\n",
    "        })\n",
    "\n",
    "# Convert the results to a DataFrame\n",
    "results_df = pd.DataFrame(results)"
   ]
  },
  {
   "cell_type": "code",
   "execution_count": null,
   "metadata": {},
   "outputs": [],
   "source": [
    "results_df"
   ]
  },
  {
   "cell_type": "code",
   "execution_count": null,
   "metadata": {},
   "outputs": [],
   "source": [
    "def determine_winner(row):\n",
    "    if row['Bonferroni Corrected P-Value'] < 0.05:\n",
    "        if row['T-Statistic'] > 0:\n",
    "            return row['Embedding Type 1']\n",
    "        elif row['T-Statistic'] < 0:\n",
    "            return row['Embedding Type 2']\n",
    "    return None\n",
    "\n",
    "# Apply the function to determine winners for each row\n",
    "results_df['Winner'] = results_df.apply(determine_winner, axis=1)\n",
    "\n",
    "# Count the number of wins for each embedding type\n",
    "win_counts = results_df['Winner'].value_counts()\n",
    "\n",
    "# Display the win counts\n",
    "print(win_counts)"
   ]
  },
  {
   "cell_type": "code",
   "execution_count": null,
   "metadata": {},
   "outputs": [],
   "source": [
    "biovilt_true_igl_tgl_resampling_path = \"/opt/gpudata/imadejski/search-model/ctds-search-model/data/param_search_v3_biovilt/model_run_0_True_igl_tgl/top_n_accuracy_results_resampling.csv\"\n",
    "biovilt_true_igl_tgl_resampling_df = pd.read_csv(biovilt_true_igl_tgl_resampling_path)\n",
    "\n",
    "biovilt_true_igl_tg_resampling_path = \"/opt/gpudata/imadejski/search-model/ctds-search-model/data/param_search_v3_biovilt/model_run_1_True_igl_tg/top_n_accuracy_results_resampling.csv\"\n",
    "biovilt_true_igl_tg_resampling_df = pd.read_csv(biovilt_true_igl_tg_resampling_path)\n",
    "\n",
    "biovilt_true_ig_tgl_resampling_path = \"/opt/gpudata/imadejski/search-model/ctds-search-model/data/param_search_v3_biovilt/model_run_2_True_ig_tgl/top_n_accuracy_results_resampling.csv\"\n",
    "biovilt_true_ig_tgl_resampling_df = pd.read_csv(biovilt_true_ig_tgl_resampling_path)\n",
    "\n",
    "biovilt_true_ig_tg_resampling_path = \"/opt/gpudata/imadejski/search-model/ctds-search-model/data/param_search_v3_biovilt/model_run_3_True_ig_tg/top_n_accuracy_results_resampling.csv\"\n",
    "biovilt_true_ig_tg_resampling_df = pd.read_csv(biovilt_true_ig_tg_resampling_path)"
   ]
  },
  {
   "cell_type": "code",
   "execution_count": null,
   "metadata": {},
   "outputs": [],
   "source": [
    "# Concatenate the dataframes into one, adding a column to indicate the model\n",
    "biovilt_resampling_df['model'] = 'Base'\n",
    "biovilt_true_ig_tg_resampling_df['model'] = 'IG_TG'\n",
    "biovilt_true_igl_tg_resampling_df['model'] = 'IGL_TG'\n",
    "biovilt_true_ig_tgl_resampling_df['model'] = 'IG_TGL'\n",
    "biovilt_true_igl_tgl_resampling_df['model'] = 'IGL_TGL'\n",
    "\n",
    "models_df = pd.concat([biovilt_resampling_df, \n",
    "                biovilt_true_ig_tg_resampling_df,\n",
    "                biovilt_true_igl_tg_resampling_df, \n",
    "                biovilt_true_ig_tgl_resampling_df, \n",
    "                biovilt_true_igl_tgl_resampling_df], \n",
    "                ignore_index=True)\n",
    "\n",
    "# Filter for rows where embedding_type is 'average_cosine_similarity_mean_accuracy'\n",
    "filtered_df = models_df[models_df['embedding_type'] == 'average_cosine_similarity_mean_accuracy']\n",
    "\n",
    "filtered_df['label'] = filtered_df['label'].replace({\n",
    "        \"Enlarged Cardiomediastinum\": \"Enl Card\"\n",
    "    })\n",
    "\n",
    "labels = filtered_df['label'].unique()\n",
    "models = filtered_df['model'].unique()\n",
    "\n",
    "# Create the bar plot\n",
    "plt.figure(figsize=(12, 6))\n",
    "bar_width = 0.15\n",
    "positions = range(len(labels))\n",
    "\n",
    "# Plot bars for each model within each label group\n",
    "for idx, model in enumerate(models):\n",
    "    model_data = filtered_df[filtered_df['model'] == model]\n",
    "    print(model)\n",
    "    plt.bar(\n",
    "        [p + bar_width * idx for p in positions],\n",
    "        model_data['mean'],\n",
    "        width=bar_width,\n",
    "        yerr=[model_data['mean'] - model_data['ci_lower'], model_data['ci_upper'] - model_data['mean']],\n",
    "        capsize=5,\n",
    "        label=model\n",
    "    )\n",
    "\n",
    "# Add labels and title\n",
    "plt.xlabel('Labels')\n",
    "plt.ylabel('Mean Accuracy')\n",
    "plt.title('Mean Accuracy for Different Models by Label')\n",
    "plt.xticks([p + bar_width * (len(models) - 1) / 2 for p in positions], labels, rotation=90)\n",
    "\n",
    "# Add legend\n",
    "plt.legend(title='Models', bbox_to_anchor=(1.05, 1), loc='upper left')\n",
    "\n",
    "# Adjust layout to make room for rotated x labels\n",
    "plt.tight_layout()\n",
    "\n",
    "# Show the plot\n",
    "plt.show()"
   ]
  }
 ],
 "metadata": {
  "kernelspec": {
   "display_name": "btir",
   "language": "python",
   "name": "python3"
  },
  "language_info": {
   "codemirror_mode": {
    "name": "ipython",
    "version": 3
   },
   "file_extension": ".py",
   "mimetype": "text/x-python",
   "name": "python",
   "nbconvert_exporter": "python",
   "pygments_lexer": "ipython3",
   "version": "3.10.13"
  }
 },
 "nbformat": 4,
 "nbformat_minor": 2
}
