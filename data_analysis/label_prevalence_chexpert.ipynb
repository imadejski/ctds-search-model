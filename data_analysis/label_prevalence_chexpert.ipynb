{
 "cells": [
  {
   "cell_type": "code",
   "execution_count": null,
   "metadata": {},
   "outputs": [],
   "source": [
    "import pandas as pd"
   ]
  },
  {
   "cell_type": "markdown",
   "metadata": {},
   "source": [
    "Import chexpert labels file"
   ]
  },
  {
   "cell_type": "code",
   "execution_count": null,
   "metadata": {},
   "outputs": [],
   "source": [
    "chexpert_file_path = \"/opt/gpudata/mimic-cxr/mimic-cxr-2.0.0-chexpert.csv.gz\"\n",
    "chexpert_df = pd.read_csv(chexpert_file_path)"
   ]
  },
  {
   "cell_type": "markdown",
   "metadata": {},
   "source": [
    "Import split file and extract validation images"
   ]
  },
  {
   "cell_type": "code",
   "execution_count": null,
   "metadata": {},
   "outputs": [],
   "source": [
    "file_path = '/opt/gpudata/mimic-cxr/mimic-cxr-2.0.0-split.csv.gz'\n",
    "split_df = pd.read_csv(file_path)\n",
    "\n",
    "validate_df = split_df[split_df['split'] == 'validate']\n",
    "validate_study_ids = validate_df['study_id'].unique()\n",
    "validate_chexpert_df = chexpert_df[chexpert_df['study_id'].isin(validate_study_ids)]"
   ]
  },
  {
   "cell_type": "code",
   "execution_count": null,
   "metadata": {},
   "outputs": [],
   "source": [
    "def check_percent_prevalence(df, label):\n",
    "    positive_count = df[df[label] == 1].shape[0]\n",
    "    total_rows = df.shape[0]\n",
    "    percentage = (positive_count / total_rows) * 100\n",
    "    return percentage"
   ]
  },
  {
   "cell_type": "code",
   "execution_count": null,
   "metadata": {},
   "outputs": [],
   "source": [
    "def print_percent(df, label):\n",
    "    percent = check_percent_prevalence(df, label)\n",
    "    print(label, \":\", percent)\n",
    "\n",
    "chexpert_labels = [\"Atelectasis\", \"Cardiomegaly\", \"Consolidation\", \"Edema\", \"Enlarged Cardiomediastinum\", \"Fracture\", \"Lung Lesion\",\n",
    "\"Lung Opacity\", \"No Finding\", \"Pleural Effusion\", \"Pleural Other\", \"Pneumonia\", \"Pneumothorax\", \"Support Devices\"]\n",
    "\n",
    "print(\"Validation Set Prevalence\")\n",
    "for i in chexpert_labels:\n",
    "    print_percent(validate_chexpert_df, i)"
   ]
  },
  {
   "cell_type": "code",
   "execution_count": null,
   "metadata": {},
   "outputs": [],
   "source": [
    "print(\"All Sample Prevalence\")\n",
    "for i in chexpert_labels:\n",
    "    print_percent(chexpert_df, i)"
   ]
  },
  {
   "cell_type": "code",
   "execution_count": null,
   "metadata": {},
   "outputs": [],
   "source": [
    "cosine_similarity_file_path = \"/home/imadejski/ctds-search-model/data/cosine_similarity_csvs/avg_cosine_similarity_single_pos_label.csv\"\n",
    "cossim_df = pd.read_csv(cosine_similarity_file_path)"
   ]
  },
  {
   "cell_type": "code",
   "execution_count": null,
   "metadata": {},
   "outputs": [],
   "source": [
    "threshold = 0.25\n",
    "count_above_threshold = cossim_df[cossim_df[\"Atelectasis\"] > threshold].shape[0]\n",
    "total_rows = cossim_df.shape[0]\n",
    "percentage_above_threshold = (count_above_threshold / total_rows) * 100\n",
    "print(percentage_above_threshold)"
   ]
  },
  {
   "cell_type": "code",
   "execution_count": null,
   "metadata": {},
   "outputs": [],
   "source": [
    "def chexpert_positive_matches(df, label, value_to_get=\"study_id\"):\n",
    "    filtered_values = df[df[label] == 1][value_to_get]\n",
    "    return filtered_values.tolist()"
   ]
  },
  {
   "cell_type": "code",
   "execution_count": null,
   "metadata": {},
   "outputs": [],
   "source": [
    "def cossim_top_n_matches(df, label, top_n, value_to_get=\"study_id\"):\n",
    "    sorted_df = df.sort_values(by=label, ascending=False)\n",
    "    top_values = sorted_df.head(top_n)[value_to_get]\n",
    "    return top_values.tolist()"
   ]
  },
  {
   "cell_type": "code",
   "execution_count": null,
   "metadata": {},
   "outputs": [],
   "source": [
    "def check_accuracy(chexpert_df, cossim_df, label):\n",
    "    chex_pos_set = set(chexpert_positive_matches(chexpert_df, label))\n",
    "    top_n = len(chex_pos_set)\n",
    "\n",
    "    cossim_pos_set = set(cossim_top_n_matches(cossim_df, label, top_n))\n",
    "\n",
    "    intersection = chex_pos_set.intersection(cossim_pos_set)\n",
    "    union = chex_pos_set.union(cossim_pos_set)\n",
    "\n",
    "    if len(union) == 0:\n",
    "        return 0.0\n",
    "\n",
    "    overlap_percentage = (len(intersection) / len(union)) * 100\n",
    "\n",
    "    return overlap_percentage\n",
    "    "
   ]
  },
  {
   "cell_type": "code",
   "execution_count": null,
   "metadata": {},
   "outputs": [],
   "source": [
    "for label in chexpert_labels:\n",
    "    print(label, check_accuracy(validate_chexpert_df, cossim_df, label))"
   ]
  },
  {
   "cell_type": "code",
   "execution_count": null,
   "metadata": {},
   "outputs": [],
   "source": [
    "chex_pos_list = chexpert_positive_matches(validate_chexpert_df, \"Atelectasis\")\n",
    "chex_pos_set = set(pos_list)\n",
    "\n",
    "cossim_pos_list = cossim_top_n_matches(cossim_df, \"atelelectasis_cos_sim\")"
   ]
  }
 ],
 "metadata": {
  "kernelspec": {
   "display_name": "himl",
   "language": "python",
   "name": "python3"
  },
  "language_info": {
   "codemirror_mode": {
    "name": "ipython",
    "version": 3
   },
   "file_extension": ".py",
   "mimetype": "text/x-python",
   "name": "python",
   "nbconvert_exporter": "python",
   "pygments_lexer": "ipython3",
   "version": "3.9.18"
  }
 },
 "nbformat": 4,
 "nbformat_minor": 2
}
