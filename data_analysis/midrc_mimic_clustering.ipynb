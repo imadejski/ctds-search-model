{
 "cells": [
  {
   "cell_type": "code",
   "execution_count": null,
   "metadata": {},
   "outputs": [],
   "source": [
    "import pandas as pd\n",
    "import numpy as np\n",
    "from sklearn.decomposition import PCA\n",
    "from sklearn.cluster import KMeans\n",
    "import matplotlib.pyplot as plt\n",
    "from mpl_toolkits.mplot3d import Axes3D\n",
    "from ast import literal_eval\n",
    "import csv"
   ]
  },
  {
   "cell_type": "markdown",
   "metadata": {},
   "source": [
    "PCA and Visualization for both the MIDRC and the MIMIC dataset so that they are overlayed."
   ]
  },
  {
   "cell_type": "code",
   "execution_count": null,
   "metadata": {},
   "outputs": [],
   "source": [
    "mimic_embedding_path = \"/home/imadejski/ctds-search-model/data/mimic/embedding_libraries/mimic_validate_train_embedding_library.csv\"\n",
    "mimic_embeddings_df = pd.read_csv(mimic_embedding_path)\n",
    "\n",
    "midrc_embedding_path = \"/home/imadejski/ctds-search-model/data/midrc/embedding_libraries/midrc_embedding_library.csv\"\n",
    "midrc_embeddings_df = pd.read_csv(midrc_embedding_path)"
   ]
  },
  {
   "cell_type": "code",
   "execution_count": null,
   "metadata": {},
   "outputs": [],
   "source": [
    "def string_to_array(embedding_str):\n",
    "    \"\"\"Convert a string representation of a list into a NumPy array.\"\"\"\n",
    "    # Remove brackets and split the string by commas\n",
    "    return np.fromstring(embedding_str[1:-1], sep=' ')\n",
    "\n",
    "def plot_pca_embeddings(df1, df2):\n",
    "    # Convert embedding strings to NumPy arrays\n",
    "    df1['embedding'] = df1['embedding'].apply(string_to_array)\n",
    "    df2['embedding'] = df2['embedding'].apply(string_to_array)\n",
    "\n",
    "    # Combine the embeddings from both DataFrames\n",
    "    combined_embeddings = np.vstack([df1['embedding'].tolist(), df2['embedding'].tolist()])\n",
    "    \n",
    "    # Apply PCA to reduce dimensions to 2\n",
    "    pca = PCA(n_components=2)\n",
    "    reduced_embeddings = pca.fit_transform(combined_embeddings)\n",
    "    \n",
    "    # Get the number of points in each DataFrame\n",
    "    num_points_df1 = df1.shape[0]\n",
    "    \n",
    "    # Split the reduced embeddings back into separate arrays\n",
    "    reduced_df1 = reduced_embeddings[:num_points_df1]\n",
    "    reduced_df2 = reduced_embeddings[num_points_df1:]\n",
    "    \n",
    "    # Plot the embeddings\n",
    "    plt.figure(figsize=(8, 6))\n",
    "    plt.scatter(reduced_df2[:, 0], reduced_df2[:, 1], c='red', label='MIMIC Embedding', alpha=0.1)\n",
    "    plt.scatter(reduced_df1[:, 0], reduced_df1[:, 1], c='blue', label='MIDRC Embedding', alpha=0.1)\n",
    "    plt.title('MIDRC and MIMIC Embeddings on PCA-Reduced Plot')\n",
    "    plt.xlabel('PCA 1')\n",
    "    plt.ylabel('PCA 2')\n",
    "    plt.legend()\n",
    "    plt.grid(True)\n",
    "    plt.show()"
   ]
  },
  {
   "cell_type": "code",
   "execution_count": null,
   "metadata": {},
   "outputs": [],
   "source": [
    "plot_pca_embeddings(midrc_embeddings_df, mimic_embeddings_df)"
   ]
  }
 ],
 "metadata": {
  "kernelspec": {
   "display_name": "himl",
   "language": "python",
   "name": "python3"
  },
  "language_info": {
   "codemirror_mode": {
    "name": "ipython",
    "version": 3
   },
   "file_extension": ".py",
   "mimetype": "text/x-python",
   "name": "python",
   "nbconvert_exporter": "python",
   "pygments_lexer": "ipython3",
   "version": "3.9.18"
  }
 },
 "nbformat": 4,
 "nbformat_minor": 2
}
