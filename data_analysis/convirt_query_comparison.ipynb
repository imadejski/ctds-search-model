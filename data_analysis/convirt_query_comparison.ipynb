{
 "cells": [
  {
   "cell_type": "code",
   "execution_count": null,
   "metadata": {},
   "outputs": [],
   "source": [
    "import pandas as pd\n",
    "import requests"
   ]
  },
  {
   "cell_type": "code",
   "execution_count": null,
   "metadata": {},
   "outputs": [],
   "source": [
    "convirt_query_df = pd.read_csv(\"/opt/gpudata/imadejski/search-model/ctds-search-model/data/convirt_queries.csv\")"
   ]
  },
  {
   "cell_type": "code",
   "execution_count": null,
   "metadata": {},
   "outputs": [],
   "source": [
    "print(convirt_query_df)"
   ]
  },
  {
   "cell_type": "code",
   "execution_count": null,
   "metadata": {},
   "outputs": [],
   "source": [
    "convirt_labels = [\n",
    "    \"Pneumothorax\",\n",
    "    \"Pneumonia\",\n",
    "    \"Fracture\",\n",
    "    \"Cardiomegaly\",\n",
    "    \"Pleural Effusion\",\n",
    "    \"Edema\",\n",
    "    \"Atelectasis\",\n",
    "    \"No finding\"\n",
    "]"
   ]
  },
  {
   "cell_type": "code",
   "execution_count": null,
   "metadata": {},
   "outputs": [],
   "source": [
    "def make_query_expansions(labels):\n",
    "    entries = []\n",
    "    for label in labels:\n",
    "        entries.extend([\n",
    "            {\"Variable\": label, \"Text\": f\"Findings consistent with {label}\"},\n",
    "            {\"Variable\": label, \"Text\": f\"Findings suggesting {label}\"},\n",
    "            {\"Variable\": label, \"Text\": f\"Findings are most compatible with {label}\"},\n",
    "            {\"Variable\": label, \"Text\": f\"{label} seen\"},\n",
    "        ])\n",
    "\n",
    "    df = pd.DataFrame(entries)\n",
    "    return df"
   ]
  },
  {
   "cell_type": "code",
   "execution_count": null,
   "metadata": {},
   "outputs": [],
   "source": [
    "curr_queries_df = make_query_expansions(convirt_labels)"
   ]
  },
  {
   "cell_type": "code",
   "execution_count": null,
   "metadata": {},
   "outputs": [],
   "source": [
    "print(curr_queries_df)"
   ]
  },
  {
   "cell_type": "code",
   "execution_count": null,
   "metadata": {},
   "outputs": [],
   "source": [
    "def query_embedding_from_df(df):\n",
    "    for row in df:\n",
    "        row[\"Text\"] = query\n",
    "        "
   ]
  },
  {
   "cell_type": "code",
   "execution_count": null,
   "metadata": {},
   "outputs": [],
   "source": []
  }
 ],
 "metadata": {
  "kernelspec": {
   "display_name": "btir",
   "language": "python",
   "name": "python3"
  },
  "language_info": {
   "codemirror_mode": {
    "name": "ipython",
    "version": 3
   },
   "file_extension": ".py",
   "mimetype": "text/x-python",
   "name": "python",
   "nbconvert_exporter": "python",
   "pygments_lexer": "ipython3",
   "version": "3.10.13"
  }
 },
 "nbformat": 4,
 "nbformat_minor": 2
}
