{
 "cells": [
  {
   "cell_type": "code",
   "execution_count": null,
   "metadata": {},
   "outputs": [],
   "source": [
    "import pandas as pd\n",
    "import requests\n",
    "import torch\n",
    "import numpy as np\n",
    "\n",
    "from health_multimodal.text import TextInferenceEngine\n",
    "from health_multimodal.text.utils import BertEncoderType, get_bert_inference"
   ]
  },
  {
   "cell_type": "code",
   "execution_count": null,
   "metadata": {},
   "outputs": [],
   "source": [
    "convirt_queries_df = pd.read_csv(\"/home/imadejski/ctds-search-model/data/convirt_queries.csv\")"
   ]
  },
  {
   "cell_type": "code",
   "execution_count": null,
   "metadata": {},
   "outputs": [],
   "source": [
    "convirt_labels = [\n",
    "    \"Pneumothorax\",\n",
    "    \"Pneumonia\",\n",
    "    \"Fracture\",\n",
    "    \"Cardiomegaly\",\n",
    "    \"Pleural Effusion\",\n",
    "    \"Edema\",\n",
    "    \"Atelectasis\",\n",
    "    \"No Finding\"\n",
    "]"
   ]
  },
  {
   "cell_type": "code",
   "execution_count": null,
   "metadata": {},
   "outputs": [],
   "source": [
    "def make_query_expansions(labels):\n",
    "    entries = []\n",
    "    for label in labels:\n",
    "        entries.extend([\n",
    "            {\"Variable\": label, \"Text\": f\"Findings consistent with {label}\"},\n",
    "            {\"Variable\": label, \"Text\": f\"Findings suggesting {label}\"},\n",
    "            {\"Variable\": label, \"Text\": f\"Findings are most compatible with {label}\"},\n",
    "            {\"Variable\": label, \"Text\": f\"{label} seen\"},\n",
    "        ])\n",
    "\n",
    "    df = pd.DataFrame(entries)\n",
    "    return df"
   ]
  },
  {
   "cell_type": "code",
   "execution_count": null,
   "metadata": {},
   "outputs": [],
   "source": [
    "curr_queries_df = make_query_expansions(convirt_labels)"
   ]
  },
  {
   "cell_type": "code",
   "execution_count": null,
   "metadata": {},
   "outputs": [],
   "source": [
    "device = torch.device(\"cuda\" if torch.cuda.is_available() else \"cpu\")\n",
    "print(\"Using device:\", device)\n",
    "inference_engine = get_bert_inference(bert_encoder_type=BertEncoderType.BIOVIL_T_BERT)"
   ]
  },
  {
   "cell_type": "code",
   "execution_count": null,
   "metadata": {},
   "outputs": [],
   "source": [
    "inference_engine = get_bert_inference(bert_encoder_type=BertEncoderType.CXR_BERT)"
   ]
  },
  {
   "cell_type": "code",
   "execution_count": null,
   "metadata": {},
   "outputs": [],
   "source": [
    "def calculate_similarities_convirt(df1, df2, inference_engine):\n",
    "    \"\"\"\n",
    "    Calculates the pairwise cosine similarities between text cells in two DataFrames \n",
    "    with the same 'Variable' value and returns a DataFrame with the results.\n",
    "\n",
    "    Parameters:\n",
    "    - df1: First DataFrame\n",
    "    - df2: Second DataFrame\n",
    "\n",
    "    Returns:\n",
    "    - result_df: DataFrame containing 'Variable', 'Average Similarity', and 'Max Similarity'\n",
    "    \"\"\"\n",
    "    results = []\n",
    "\n",
    "    for index1, row1 in df1.iterrows():\n",
    "        variable = row1['Variable']\n",
    "        text1 = row1['Text']\n",
    "\n",
    "        df2_filtered = df2[df2['Variable'] == variable]\n",
    "\n",
    "        if not df2_filtered.empty:\n",
    "            similarities = []\n",
    "\n",
    "            for index2, row2 in df2_filtered.iterrows():\n",
    "                text2 = row2['Text']\n",
    "                similarity_tensor = inference_engine.get_pairwise_similarities(text1, text2)\n",
    "                similarity_value = similarity_tensor.item()  # Convert tensor to scalar\n",
    "                similarities.append(similarity_value)\n",
    "\n",
    "            comparisons = similarities + [np.nan] * (5 - len(similarities))\n",
    "\n",
    "            comparisons_array = np.array(comparisons, dtype=object)\n",
    "\n",
    "            average_similarity = np.nanmean(comparisons)\n",
    "            max_similarity = np.nanmax(comparisons)\n",
    "\n",
    "            results.append({\n",
    "                'Variable': variable,\n",
    "                'Text': text1,\n",
    "                'ConVIRT Query 1': comparisons[0],\n",
    "                'ConVIRT Query 2': comparisons[1],\n",
    "                'ConVIRT Query 3': comparisons[2],\n",
    "                'ConVIRT Query 4': comparisons[3],\n",
    "                'ConVIRT Query 5': comparisons[4],\n",
    "                'Average Similarity': average_similarity,\n",
    "                'Max Similarity': max_similarity\n",
    "            })\n",
    "\n",
    "    result_df = pd.DataFrame(results)\n",
    "    return result_df"
   ]
  },
  {
   "cell_type": "code",
   "execution_count": null,
   "metadata": {},
   "outputs": [],
   "source": [
    "similarity_curr_queries_df = calculate_similarities(curr_queries_df, convirt_queries_df, inference_engine)\n",
    "print(similarity_curr_queries_df)"
   ]
  },
  {
   "cell_type": "markdown",
   "metadata": {},
   "source": []
  },
  {
   "cell_type": "code",
   "execution_count": null,
   "metadata": {},
   "outputs": [],
   "source": [
    "similarity_curr_queries_df.to_csv(\"/home/imadejski/ctds-search-model/data/convirt_query_comparison.csv\", index=False)"
   ]
  },
  {
   "cell_type": "code",
   "execution_count": null,
   "metadata": {},
   "outputs": [],
   "source": [
    "def calculate_similarities_real(df1, df2, inference_engine):\n",
    "    \"\"\"\n",
    "    Calculates the pairwise cosine similarities between text cells in two DataFrames \n",
    "    with the same 'Variable' value and returns a DataFrame with the results.\n",
    "\n",
    "    Parameters:\n",
    "    - df1: First DataFrame\n",
    "    - df2: Second DataFrame\n",
    "\n",
    "    Returns:\n",
    "    - result_df: DataFrame containing 'Variable', 'Average Similarity', and 'Max Similarity'\n",
    "    \"\"\"\n",
    "    results = []\n",
    "\n",
    "    for index1, row1 in df1.iterrows():\n",
    "        variable = row1['Variable']\n",
    "        text1 = row1['Text']\n",
    "\n",
    "        df2_filtered = df2[df2['Variable'] == variable]\n",
    "\n",
    "        if not df2_filtered.empty:\n",
    "            similarities = []\n",
    "\n",
    "            for index2, row2 in df2_filtered.iterrows():\n",
    "                text2 = row2['Text']\n",
    "                similarity_tensor = inference_engine.get_pairwise_similarities(text1, text2)\n",
    "                similarity_value = similarity_tensor.item()  # Convert tensor to scalar\n",
    "                similarities.append(similarity_value)\n",
    "\n",
    "            if similarities:\n",
    "                average_similarity = np.nanmean(similarities)\n",
    "                max_similarity = np.nanmax(similarities)\n",
    "            else:\n",
    "                average_similarity = np.nan\n",
    "                max_similarity = np.nan\n",
    "\n",
    "            results.append({\n",
    "                'Variable': variable,\n",
    "                'Text': text1,\n",
    "                'Average Similarity': average_similarity,\n",
    "                'Max Similarity': max_similarity\n",
    "            })\n",
    "\n",
    "    result_df = pd.DataFrame(results)\n",
    "    return result_df"
   ]
  },
  {
   "cell_type": "code",
   "execution_count": null,
   "metadata": {},
   "outputs": [],
   "source": [
    "real_queries_df = pd.read_csv(\"/home/imadejski/ctds-search-model/data/real_sentences.csv\")"
   ]
  },
  {
   "cell_type": "code",
   "execution_count": null,
   "metadata": {},
   "outputs": [],
   "source": [
    "similarity_curr_queries_real_df = calculate_similarities_real(curr_queries_df, real_queries_df, inference_engine)\n",
    "print(similarity_curr_queries_real_df)"
   ]
  },
  {
   "cell_type": "code",
   "execution_count": null,
   "metadata": {},
   "outputs": [],
   "source": [
    "similarity_curr_queries_real_df.to_csv(\"/home/imadejski/ctds-search-model/data/real_query_comparison.csv\", index=False)"
   ]
  }
 ],
 "metadata": {
  "kernelspec": {
   "display_name": "btir",
   "language": "python",
   "name": "python3"
  },
  "language_info": {
   "codemirror_mode": {
    "name": "ipython",
    "version": 3
   },
   "file_extension": ".py",
   "mimetype": "text/x-python",
   "name": "python",
   "nbconvert_exporter": "python",
   "pygments_lexer": "ipython3",
   "version": "3.9.18"
  }
 },
 "nbformat": 4,
 "nbformat_minor": 2
}
