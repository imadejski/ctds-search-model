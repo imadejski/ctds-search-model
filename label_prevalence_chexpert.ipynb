{
 "cells": [
  {
   "cell_type": "code",
   "execution_count": null,
   "metadata": {},
   "outputs": [],
   "source": [
    "import pandas as pd"
   ]
  },
  {
   "cell_type": "code",
   "execution_count": null,
   "metadata": {},
   "outputs": [],
   "source": [
    "chexpert_file_path = \"/Users/lauraburakreis/Desktop/CTDS/biovilt_files/mimic-cxr-2.0.0-chexpert.csv\"\n",
    "\n",
    "chexpert_df = pd.read_csv(chexpert_file_path)\n",
    "\n",
    "print(chexpert_df)"
   ]
  },
  {
   "cell_type": "code",
   "execution_count": null,
   "metadata": {},
   "outputs": [],
   "source": [
    "def check_percent_prevalence(df, label):\n",
    "    atelectasis_count = df[df[label] == 1].shape[0]\n",
    "    total_rows = df.shape[0]\n",
    "    percentage = (atelectasis_count / total_rows) * 100\n",
    "    return percentage"
   ]
  },
  {
   "cell_type": "code",
   "execution_count": null,
   "metadata": {},
   "outputs": [],
   "source": [
    "percent_atelectasis = check_percent_prevalence(chexpert_df, \"Atelectasis\")\n",
    "print(\"Atelectasis: \", percent_atelectasis)\n",
    "\n",
    "percent_cardiomegaly = check_percent_prevalence(chexpert_df, \"Cardiomegaly\")\n",
    "print(\"Cardiomegaly: \", percent_cardiomegaly)\n",
    "\n",
    "percent_consolidation = check_percent_prevalence(chexpert_df, \"Consolidation\")\n",
    "print(\"Consolidation: \", percent_consolidation)\n",
    "\n",
    "percent_edema = check_percent_prevalence(chexpert_df, \"Edema\")\n",
    "print(\"Edema: \", percent_edema)\n",
    "\n",
    "percent_enlarged_cardiomediastinum = check_percent_prevalence(chexpert_df, \"Enlarged Cardiomediastinum\")\n",
    "print(\"Enlarged Cardiomediastinum: \", percent_enlarged_cardiomediastinum)\n",
    "\n",
    "percent_fracture = check_percent_prevalence(chexpert_df, \"Fracture\")\n",
    "print(\"Fracture: \", percent_fracture)\n",
    "\n",
    "percent_lung_lesion = check_percent_prevalence(chexpert_df, \"Lung Lesion\")\n",
    "print(\"Lung Lesion: \", percent_lung_lesion)\n",
    "\n",
    "percent_lung_opacity = check_percent_prevalence(chexpert_df, \"Lung Opacity\")\n",
    "print(\"Lung Opacity: \", percent_lung_opacity)"
   ]
  },
  {
   "cell_type": "code",
   "execution_count": null,
   "metadata": {},
   "outputs": [],
   "source": [
    "cosine_similarity_file_path = \"/Users/lauraburakreis/Desktop/CTDS/biovilt_files/cosine_sim_new.csv\"\n",
    "cossim_df = pd.read_csv(cosine_similarity_file_path)\n",
    "print(cossim_df)"
   ]
  }
 ],
 "metadata": {
  "kernelspec": {
   "display_name": "himl",
   "language": "python",
   "name": "python3"
  },
  "language_info": {
   "codemirror_mode": {
    "name": "ipython",
    "version": 3
   },
   "file_extension": ".py",
   "mimetype": "text/x-python",
   "name": "python",
   "nbconvert_exporter": "python",
   "pygments_lexer": "ipython3",
   "version": "3.12.1"
  }
 },
 "nbformat": 4,
 "nbformat_minor": 2
}
