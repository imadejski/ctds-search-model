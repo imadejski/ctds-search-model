{
 "cells": [
  {
   "cell_type": "code",
   "execution_count": null,
   "metadata": {},
   "outputs": [],
   "source": [
    "import pandas as pd"
   ]
  },
  {
   "cell_type": "code",
   "execution_count": null,
   "metadata": {},
   "outputs": [],
   "source": [
    "# file path for mimic data splits\n",
    "file_path = '/opt/gpudata/mimic-cxr/mimic-cxr-2.0.0-split.csv.gz'\n",
    "\n",
    "split_df = pd.read_csv(file_path)\n",
    "validate_df = split_df[split_df['split'] == 'validate']\n",
    "validate_df.loc[:, \"file_path\"] = None"
   ]
  },
  {
   "cell_type": "code",
   "execution_count": null,
   "metadata": {},
   "outputs": [],
   "source": [
    "def create_paths(df):\n",
    "    '''Creates a column with the path for each individual image,\n",
    "    takes a datafram with columns subject_ids, study_ids, and dicom_ids'''\n",
    "    for index, row in df.iterrows():\n",
    "        #retrieve each sub folder value to get path\n",
    "        patient_id = row['subject_id']\n",
    "        study_id = row['study_id']\n",
    "        dicom_id = row[\"dicom_id\"]\n",
    "\n",
    "        #assign path in df\n",
    "        path = (\"/opt/gpudata/mimic-cxr/jpg/p\"+ str(patient_id)[:2] + \"/p\" + str(patient_id)+ \"/s\" + str(study_id) + \"/\" + str(dicom_id) + \".jpg\")\n",
    "        df.loc[index, \"file_path\"] = path\n",
    "    \n",
    "create_paths(validate_df)\n",
    "print(validate_df[\"file_path\"])"
   ]
  },
  {
   "cell_type": "code",
   "execution_count": null,
   "metadata": {},
   "outputs": [],
   "source": [
    "pip_source = \"hi-ml-multimodal\""
   ]
  },
  {
   "cell_type": "code",
   "execution_count": null,
   "metadata": {},
   "outputs": [],
   "source": [
    "%pip install {pip_source}"
   ]
  },
  {
   "cell_type": "code",
   "execution_count": null,
   "metadata": {},
   "outputs": [],
   "source": [
    "from typing import List\n",
    "from typing import Tuple\n",
    "\n",
    "import tempfile\n",
    "from pathlib import Path\n",
    "\n",
    "import torch\n",
    "from IPython.display import display\n",
    "from IPython.display import Markdown\n",
    "\n",
    "from health_multimodal.common.visualization import plot_phrase_grounding_similarity_map\n",
    "from health_multimodal.text import get_bert_inference\n",
    "from health_multimodal.text.utils import BertEncoderType\n",
    "from health_multimodal.image import get_image_inference\n",
    "from health_multimodal.image.utils import ImageModelType\n",
    "from health_multimodal.vlp import ImageTextInferenceEngine"
   ]
  },
  {
   "cell_type": "code",
   "execution_count": null,
   "metadata": {},
   "outputs": [],
   "source": [
    "text_inference = get_bert_inference(BertEncoderType.BIOVIL_T_BERT)\n",
    "image_inference = get_image_inference(ImageModelType.BIOVIL_T)"
   ]
  },
  {
   "cell_type": "code",
   "execution_count": null,
   "metadata": {},
   "outputs": [],
   "source": [
    "image_text_inference = ImageTextInferenceEngine(\n",
    "    image_inference_engine=image_inference,\n",
    "    text_inference_engine=text_inference,\n",
    ")\n",
    "device = torch.device(\"cuda\" if torch.cuda.is_available() else \"cpu\")\n",
    "image_text_inference.to(device)"
   ]
  },
  {
   "cell_type": "code",
   "execution_count": null,
   "metadata": {},
   "outputs": [],
   "source": [
    "TypeBox = Tuple[float, float, float, float]\n",
    "\n",
    "def plot_phrase_grounding(image_path: Path, text_prompt: str, bboxes: List[TypeBox]) -> None:\n",
    "    similarity_map = image_text_inference.get_similarity_map_from_raw_data(\n",
    "        image_path=image_path,\n",
    "        query_text=text_prompt,\n",
    "        interpolation=\"bilinear\",\n",
    "    )\n",
    "    plot_phrase_grounding_similarity_map(\n",
    "        image_path=image_path,\n",
    "        similarity_map=similarity_map,\n",
    "        bboxes=bboxes\n",
    "    )\n",
    "\n",
    "def cosine_similarity(image_path: Path, text_prompt: str) -> None:\n",
    "    similarity_score = image_text_inference.get_similarity_score_from_raw_data(\n",
    "        image_path=image_path,\n",
    "        query_text=text_prompt,\n",
    "    )\n",
    "    return similarity_score\n",
    "\n",
    "def plot_phrase_grounding_from_url(image_url: str, text_prompt: str, bboxes: List[TypeBox]) -> None:\n",
    "    image_path = Path(tempfile.tempdir, \"downloaded_chest_xray.jpg\")\n",
    "    !curl -s -L -o {image_path} {image_url}\n",
    "    plot_phrase_grounding(image_path, text_prompt, bboxes)"
   ]
  },
  {
   "cell_type": "code",
   "execution_count": null,
   "metadata": {},
   "outputs": [],
   "source": [
    "def find_cossim(image_path_name, text_prompt):\n",
    "    '''Finds cosine similarity between an image and text given the image path and text prompt,\n",
    "    computes embeddings for each and calculates cosine similarity'''\n",
    "    #text_prompt = \"atelectasis seen\"\n",
    "    # Ground-truth bounding box annotation(s) for the input text prompt\n",
    "    image_path = Path(image_path_name)\n",
    "    bboxes = [\n",
    "        (306, 168, 124, 101),\n",
    "    ]\n",
    "\n",
    "    text = (\n",
    "        'The ground-truth bounding box annotation for the phrase'\n",
    "        f' *{text_prompt}* is shown in the middle figure (in black).'\n",
    "    )\n",
    "\n",
    "    display(Markdown(text))\n",
    "    #plot_phrase_grounding(image_path, text_prompt, bboxes)\n",
    "    return cosine_similarity(image_path, text_prompt)\n"
   ]
  },
  {
   "cell_type": "code",
   "execution_count": null,
   "metadata": {},
   "outputs": [],
   "source": [
    "'''Create new dataframe with the cosine similarity values'''\n",
    "\n",
    "columns = ['dicom_id', 'atelelectasis_cos_sim']\n",
    "cosine_similarity_df = pd.DataFrame(columns=columns)\n",
    "\n",
    "for index, row in validate_df.iterrows():\n",
    "    image_path = row[\"file_path\"]\n",
    "    text_prompt = \"atelectasis seen\"\n",
    "    cos_sim = find_cossim(image_path, text_prompt) \n",
    "    new_row = [row[\"dicom_id\"], cos_sim]\n",
    "\n",
    "    cosine_similarity_df.loc[index] = new_row\n"
   ]
  },
  {
   "cell_type": "code",
   "execution_count": null,
   "metadata": {},
   "outputs": [],
   "source": [
    "cosine_similarity_df[\"file_path\"] = validate_df[\"file_path\"]\n",
    "new_order = [\"dicom_id\", \"file_path\", \"atelelectasis_cos_sim\"]\n",
    "cosine_similarity_df  = cosine_similarity_df[new_order]\n",
    "print(cosine_similarity_df)"
   ]
  },
  {
   "cell_type": "code",
   "execution_count": null,
   "metadata": {},
   "outputs": [],
   "source": [
    "file_path = \"/home/imadejski/ctds-search-model/cosine_sim_new.csv\"\n",
    "cosine_similarity_df.to_csv(file_path, index=False)"
   ]
  }
 ],
 "metadata": {
  "kernelspec": {
   "display_name": "himl",
   "language": "python",
   "name": "python3"
  },
  "language_info": {
   "codemirror_mode": {
    "name": "ipython",
    "version": 3
   },
   "file_extension": ".py",
   "mimetype": "text/x-python",
   "name": "python",
   "nbconvert_exporter": "python",
   "pygments_lexer": "ipython3",
   "version": "3.9.18"
  }
 },
 "nbformat": 4,
 "nbformat_minor": 2
}
