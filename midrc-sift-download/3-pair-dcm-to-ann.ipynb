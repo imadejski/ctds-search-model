{
 "cells": [
  {
   "cell_type": "code",
   "execution_count": null,
   "metadata": {},
   "outputs": [],
   "source": [
    "import os\n",
    "import re\n",
    "import numpy as np\n",
    "import pandas as pd\n",
    "import pydicom\n",
    "from tqdm import trange, tqdm\n",
    "from PIL import Image\n",
    "\n",
    "import matplotlib.pyplot as plt\n",
    "\n",
    "data_dir = '/opt/gpudata/midrc-sift'\n",
    "dcm_dir = os.path.join(data_dir, 'dcm')\n",
    "series_uids = sorted(os.listdir(dcm_dir))\n",
    "obj_ids = pd.read_csv(os.path.join(data_dir, 'obj_ids.csv'))\n",
    "dcm_csv = os.path.join(data_dir, \"annotated_dcms.csv\")"
   ]
  },
  {
   "cell_type": "code",
   "execution_count": null,
   "metadata": {},
   "outputs": [],
   "source": [
    "assert obj_ids[\"annotation\"].str.endswith(\".dcm\").all()\n",
    "anns = set(obj_ids[\"annotation\"])"
   ]
  },
  {
   "cell_type": "code",
   "execution_count": null,
   "metadata": {},
   "outputs": [],
   "source": [
    "dcms = []\n",
    "for series_uid in tqdm(series_uids):\n",
    "    series_dcms = []\n",
    "    spath = os.path.join(dcm_dir, series_uid)\n",
    "    for root, dirs, files in os.walk(spath):\n",
    "        for fname in files:\n",
    "            if fname.endswith(\".dcm\"):\n",
    "                fpath = os.path.join(root, fname)\n",
    "                series_dcms.append((fname, fpath))\n",
    "    dcms.append(series_dcms)"
   ]
  },
  {
   "cell_type": "code",
   "execution_count": null,
   "metadata": {},
   "outputs": [],
   "source": [
    "im_dcms = []\n",
    "for series_uid, series_dcms in tqdm(list(zip(series_uids, dcms))):\n",
    "    # find annotation and check there's only one per series\n",
    "    ann_idx = -1\n",
    "    for i, (fname, fpath) in enumerate(series_dcms):\n",
    "        if fname in anns:\n",
    "            assert ann_idx == -1 # multiple annotations per series??\n",
    "            ann_idx = i\n",
    "    assert ann_idx != -1 # must find annotation\n",
    "    ann_fname = series_dcms[ann_idx][0]\n",
    "\n",
    "    # pair annotation with image dcm using the common uid\n",
    "    series_im_dcms = []\n",
    "    matches = re.findall(r\"__([\\d\\.]*?)__seg.dcm\", ann_fname)\n",
    "    assert len(matches) == 1\n",
    "    common_uid = matches[0]\n",
    "    for i, (fname, fpath) in enumerate(series_dcms):\n",
    "        if i == ann_idx:\n",
    "            continue\n",
    "        if common_uid in fpath:\n",
    "            series_im_dcms.append((fname, fpath))\n",
    "\n",
    "    # if no matches but there's only one other dcm, use that\n",
    "    if len(series_im_dcms) == 0 and len(series_dcms) == 2:\n",
    "        series_im_dcms.append(series_dcms[1-ann_idx])\n",
    "\n",
    "    # if there are still no matches, read the dcm and try to match based on UIDs in the file\n",
    "    if len(series_im_dcms) == 0:\n",
    "        for i, (fname, fpath) in enumerate(series_dcms):\n",
    "            if i == ann_idx:\n",
    "                continue\n",
    "            dcm = pydicom.dcmread(fpath)\n",
    "            if common_uid == dcm.SOPInstanceUID:\n",
    "                series_im_dcms.append((fname, fpath))\n",
    "\n",
    "    # if there are still no matches, give up?\n",
    "    assert len(series_im_dcms) == 1\n",
    "    im_dcms.append((\n",
    "        series_uid,\n",
    "        common_uid,\n",
    "        series_im_dcms[0][1], # fpath\n",
    "    ))"
   ]
  },
  {
   "cell_type": "code",
   "execution_count": null,
   "metadata": {},
   "outputs": [],
   "source": [
    "annotated_dcms = pd.DataFrame(im_dcms, columns=[\"series_uid\", \"image_uid\", \"fpath\"])"
   ]
  },
  {
   "cell_type": "code",
   "execution_count": null,
   "metadata": {},
   "outputs": [],
   "source": [
    "annotated_dcms.to_csv(dcm_csv, index=False)"
   ]
  },
  {
   "cell_type": "code",
   "execution_count": null,
   "metadata": {},
   "outputs": [],
   "source": []
  }
 ],
 "metadata": {
  "kernelspec": {
   "display_name": "cxr",
   "language": "python",
   "name": "python3"
  },
  "language_info": {
   "codemirror_mode": {
    "name": "ipython",
    "version": 3
   },
   "file_extension": ".py",
   "mimetype": "text/x-python",
   "name": "python",
   "nbconvert_exporter": "python",
   "pygments_lexer": "ipython3",
   "version": "3.10.13"
  }
 },
 "nbformat": 4,
 "nbformat_minor": 2
}
