{
 "cells": [
  {
   "cell_type": "code",
   "execution_count": null,
   "metadata": {},
   "outputs": [],
   "source": [
    "import os\n",
    "import re\n",
    "import pydicom\n",
    "import numpy as np\n",
    "import pandas as pd\n",
    "import matplotlib.pyplot as plt\n",
    "from tqdm import trange, tqdm"
   ]
  },
  {
   "cell_type": "code",
   "execution_count": null,
   "metadata": {},
   "outputs": [],
   "source": [
    "df = pd.read_csv('/opt/gpudata/midrc-sift/obj_ids.csv')\n",
    "dcm_dir = '/opt/gpudata/midrc-sift/dcm'"
   ]
  },
  {
   "cell_type": "code",
   "execution_count": null,
   "metadata": {},
   "outputs": [],
   "source": [
    "obj_ids = df[[\"series_uid\", \"ann_id\", \"annotation\"]].rename(columns={\"ann_id\": \"obj_id\", \"annotation\": \"fname\"})"
   ]
  },
  {
   "cell_type": "code",
   "execution_count": null,
   "metadata": {},
   "outputs": [],
   "source": [
    "dcms = []\n",
    "common_uids = []\n",
    "for i in trange(len(obj_ids)):\n",
    "    row = obj_ids.iloc[i]\n",
    "    series_uid = row[\"series_uid\"]\n",
    "    fname = row[\"fname\"]\n",
    "    fpath = os.path.join(dcm_dir, series_uid, fname)\n",
    "    if not os.path.exists(fpath):\n",
    "        break\n",
    "    dcm = pydicom.dcmread(fpath)\n",
    "    dcms.append(dcm)\n",
    "\n",
    "    matches = re.findall(r\"__([\\d\\.]*?)__seg.dcm\", fname)\n",
    "    assert len(matches) == 1\n",
    "    common_uid = matches[0]\n",
    "    common_uids.append(common_uid)"
   ]
  },
  {
   "cell_type": "code",
   "execution_count": null,
   "metadata": {},
   "outputs": [],
   "source": [
    "labels = []\n",
    "for dcm in tqdm(dcms):\n",
    "    assert hasattr(dcm, \"SegmentSequence\")\n",
    "    labels.append([seg.SegmentLabel for seg in dcm.SegmentSequence])"
   ]
  },
  {
   "cell_type": "code",
   "execution_count": null,
   "metadata": {},
   "outputs": [],
   "source": [
    "temp = [\n",
    "    (series_uid, common_uid, label)\n",
    "    for series_uid, common_uid, ls in zip(obj_ids[\"series_uid\"], common_uids, labels)\n",
    "    for label in ls\n",
    "]\n",
    "label_df = pd.DataFrame({\n",
    "    \"series_uid\": [x[0] for x in temp],\n",
    "    \"image_uid\": [x[1] for x in temp],\n",
    "    \"label\": [x[2] for x in temp],\n",
    "    \"values\": [1] * len(temp),\n",
    "}).drop_duplicates()\n",
    "label_df = label_df.pivot(index=[\"series_uid\", \"image_uid\"], columns=\"label\", values=\"values\").fillna(0).astype(int)\n",
    "\n",
    "label_df.columns.name = None\n",
    "label_df = label_df.reset_index()"
   ]
  },
  {
   "cell_type": "code",
   "execution_count": null,
   "metadata": {},
   "outputs": [],
   "source": [
    "label_df.to_csv(\"/opt/gpudata/midrc-sift/labels.csv\", index=False)"
   ]
  },
  {
   "cell_type": "code",
   "execution_count": null,
   "metadata": {},
   "outputs": [],
   "source": [
    "label_df = pd.read_csv(\"/opt/gpudata/midrc-sift/labels.csv\")\n",
    "label_df"
   ]
  },
  {
   "cell_type": "code",
   "execution_count": null,
   "metadata": {},
   "outputs": [],
   "source": [
    "label_df.columns"
   ]
  },
  {
   "cell_type": "code",
   "execution_count": null,
   "metadata": {},
   "outputs": [],
   "source": []
  }
 ],
 "metadata": {
  "kernelspec": {
   "display_name": "cxr",
   "language": "python",
   "name": "python3"
  },
  "language_info": {
   "codemirror_mode": {
    "name": "ipython",
    "version": 3
   },
   "file_extension": ".py",
   "mimetype": "text/x-python",
   "name": "python",
   "nbconvert_exporter": "python",
   "pygments_lexer": "ipython3",
   "version": "3.10.13"
  }
 },
 "nbformat": 4,
 "nbformat_minor": 2
}
